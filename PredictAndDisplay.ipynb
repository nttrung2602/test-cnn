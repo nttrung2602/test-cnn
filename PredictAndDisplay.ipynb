{
 "cells": [
  {
   "cell_type": "code",
   "execution_count": 1,
   "id": "b295377d",
   "metadata": {},
   "outputs": [],
   "source": [
    "import cv2\n",
    "import tensorflow as tf\n",
    "import numpy as np\n",
    "\n",
    "\n",
    "# Print results\n"
   ]
  },
  {
   "cell_type": "code",
   "execution_count": 57,
   "id": "359297aa",
   "metadata": {},
   "outputs": [
    {
     "name": "stdout",
     "output_type": "stream",
     "text": [
      "1/1 [==============================] - 0s 80ms/step\n",
      "1\n",
      "[[0. 1. 0. 0. 0. 0.]]\n"
     ]
    }
   ],
   "source": [
    "filename = 'test/tuan2.jpg'\n",
    "image = cv2.imread(filename)\n",
    "face_cascade = cv2.CascadeClassifier(cv2.data.haarcascades +'haarcascade_frontalface_default.xml')\n",
    "save_model = tf.keras.models.load_model(\"khuonmat.h5\")\n",
    "gray = cv2.cvtColor(image, cv2.COLOR_BGR2GRAY)\n",
    "fa = face_cascade.detectMultiScale(gray, 1.1, 5)\n",
    "fontface = cv2.FONT_HERSHEY_SIMPLEX\n",
    "for (x, y, w, h) in fa:\n",
    "    cv2.rectangle(image, (x, y), (x+w, y+h), (0, 255, 0), 2)\n",
    "    roi_gray = gray[y:y+h, x:x+w]\n",
    "    roi_gray = cv2.resize(src=roi_gray, dsize=(100,100))\n",
    "    roi_gray = roi_gray.reshape((100,100,1))\n",
    "    roi_gray = np.array(roi_gray)\n",
    "    result = save_model.predict(np.array([roi_gray]))\n",
    "    final = np.argmax(result)\n",
    "    print(final)\n",
    "    print(result)\n",
    "    if final == 0:\n",
    "        cv2.putText(image, \"Trung\",(x+10,y+h+ 30), fontface, 1, (0,255,0),2)\n",
    "    if final == 1:\n",
    "        cv2.putText(image, \"Thuong\",(x+10,y+h+ 30), fontface, 1, (0,255,0),2)\n",
    "    if final == 2:\n",
    "        cv2.putText(image, \"Thai\",(x+10,y+h+ 30), fontface, 1, (0,255,0),2)\n",
    "    if final == 3:\n",
    "        cv2.putText(image, \"Thien\",(x+10,y+h+ 30), fontface, 1, (0,255,0),2)\n",
    "    if final == 4:\n",
    "        cv2.putText(image, \"Tuan\",(x+10,y+h+ 30), fontface, 1, (0,255,0),2)\n",
    "    if final == 5:\n",
    "        cv2.putText(image, \"Duck\",(x+10,y+h+ 30), fontface, 1, (0,255,0),2)\n",
    "\n",
    "    image = cv2.resize(image, (1000, 1000))\n",
    "    cv2.imshow('trainning',image)\n",
    "# print(result)\n",
    "\n",
    "cv2.waitKey(0)\n",
    "cv2.destroyAllWindows()"
   ]
  },
  {
   "cell_type": "code",
   "execution_count": null,
   "id": "901e3993",
   "metadata": {},
   "outputs": [],
   "source": []
  },
  {
   "cell_type": "code",
   "execution_count": null,
   "id": "92de1565",
   "metadata": {},
   "outputs": [],
   "source": []
  }
 ],
 "metadata": {
  "kernelspec": {
   "display_name": "Python 3 (ipykernel)",
   "language": "python",
   "name": "python3"
  },
  "language_info": {
   "codemirror_mode": {
    "name": "ipython",
    "version": 3
   },
   "file_extension": ".py",
   "mimetype": "text/x-python",
   "name": "python",
   "nbconvert_exporter": "python",
   "pygments_lexer": "ipython3",
   "version": "3.9.13"
  }
 },
 "nbformat": 4,
 "nbformat_minor": 5
}
