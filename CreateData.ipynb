{
 "cells": [
  {
   "cell_type": "code",
   "execution_count": 26,
   "id": "ef71cf78",
   "metadata": {},
   "outputs": [],
   "source": [
    "import cv2\n",
    "import os\n",
    "import numpy as np\n",
    "import time"
   ]
  },
  {
   "cell_type": "code",
   "execution_count": 27,
   "id": "d092f399",
   "metadata": {},
   "outputs": [],
   "source": [
    "id=1\n"
   ]
  },
  {
   "cell_type": "code",
   "execution_count": 28,
   "id": "007fdf55",
   "metadata": {},
   "outputs": [
    {
     "name": "stdout",
     "output_type": "stream",
     "text": [
      "Starting!!\n",
      "data/s1/1.jpg Không nhận ra khuôn mặt để mà lưu vào dataset\n",
      "data/s1/3.jpg Không nhận ra khuôn mặt để mà lưu vào dataset\n",
      "data/s5/2.jpg Không nhận ra khuôn mặt để mà lưu vào dataset\n",
      "data/s6/6.jpg Không nhận ra khuôn mặt để mà lưu vào dataset\n",
      "data/s6/81.jpg Không nhận ra khuôn mặt để mà lưu vào dataset\n",
      "data/s6/83.jpg Không nhận ra khuôn mặt để mà lưu vào dataset\n",
      "data/s6/84.jpg Không nhận ra khuôn mặt để mà lưu vào dataset\n",
      "data/s6/85.jpg Không nhận ra khuôn mặt để mà lưu vào dataset\n",
      "data/s8/118.jpg Không nhận ra khuôn mặt để mà lưu vào dataset\n",
      "data/s8/119.jpg Không nhận ra khuôn mặt để mà lưu vào dataset\n",
      "data/s8/132.jpg Không nhận ra khuôn mặt để mà lưu vào dataset\n",
      "data/s8/133.jpg Không nhận ra khuôn mặt để mà lưu vào dataset\n",
      "Completed!!!\n"
     ]
    }
   ],
   "source": [
    "if id == 1:\n",
    "    detector=cv2.CascadeClassifier(cv2.data.haarcascades +'haarcascade_frontalface_default.xml')\n",
    "    print(\"Starting!!\")\n",
    "    dir = \"data\"\n",
    "\n",
    "    directorynames = os.listdir(dir)  # directory names inside parent\n",
    "    numbered = 1\n",
    "    for directoryname in directorynames:\n",
    "        #  if directoryname.startswith(\"s\"):\n",
    "\n",
    "        #     # face1\n",
    "        #     x = directoryname.replace(\"s\", \"\")\n",
    "\n",
    "        directorypath = dir + \"/\" + directoryname  # directory path\n",
    "\n",
    "        imagenames = os.listdir(directorypath)\n",
    "        for imagename in imagenames:\n",
    "            if not imagename.startswith(\".\"):\n",
    "                imagepath = directorypath + \"/\" + imagename  # image path\n",
    "\n",
    "                frame = cv2.imread(imagepath)\n",
    "\n",
    "                gray = cv2.cvtColor(frame, cv2.COLOR_BGR2GRAY)\n",
    "\n",
    "                fa = detector.detectMultiScale(gray, 1.1, 5)\n",
    "\n",
    "                if len(fa) != 0:\n",
    "                    for x, y, w, h in fa:\n",
    "                        cv2.rectangle(frame, (x, y), (x + w, y + h), (0, 255, 0), 2)\n",
    "                        if not os.path.exists(\"dataset\"):\n",
    "                            os.makedirs(\"dataset\")\n",
    "                        if not os.path.exists(\"dataset/\" + directoryname):\n",
    "                            os.makedirs(\"dataset/\" + directoryname)\n",
    "                        # cv2.imshow(\"frame\", gray[y : y + h, x : x + w])\n",
    "                        # cv2.waitKey(0)\n",
    "                        cv2.imwrite(\n",
    "                            \"C:/Users/MEP-LAPTOP/Documents/Nam4/Ki2/Ltnhung/ModelCNN\"\n",
    "                            + \"/dataset/\"\n",
    "                            + directoryname\n",
    "                            + \"/\"\n",
    "                            + imagename,\n",
    "                            gray[y : y + h, x : x + w],\n",
    "                        )\n",
    "                else:\n",
    "                    print(imagepath + \" Không nhận ra khuôn mặt để mà lưu vào dataset\")\n",
    "    print(\"Completed!!!\")"
   ]
  },
  {
   "cell_type": "code",
   "execution_count": 17,
   "id": "227b5c32",
   "metadata": {},
   "outputs": [
    {
     "name": "stdout",
     "output_type": "stream",
     "text": [
      "aaaa\n",
      "\n",
      "aaaa\n",
      "\n",
      "aaaa\n",
      "\n",
      "aaaa\n",
      "\n"
     ]
    }
   ],
   "source": [
    "# ts = time.time()\n",
    "# oldTs = int(ts)\n",
    "# sampleNum=0\n",
    "# if id == 2:\n",
    "#     cap = cv2.VideoCapture(0)\n",
    "#     detector=cv2.CascadeClassifier(cv2.data.haarcascades +'haarcascade_frontalface_default.xml')\n",
    "#     sampleNum = 0\n",
    "#     while(True):\n",
    "#         ret, frame = cap.read()\n",
    "#         ts = time.time()\n",
    "#         gray = cv2.cvtColor(frame, cv2.COLOR_BGR2GRAY)\n",
    "#         fa = detector.detectMultiScale(gray, 1.1, 5)\n",
    "#         for(x,y,w,h) in fa:\n",
    "#             cv2.rectangle(frame,(x,y),(x+w, y+h),(0,255,0), 2)\n",
    "#             if not os.path.exists('dataset2'):\n",
    "#                 os.makedirs('dataset2')\n",
    "#             if not os.path.exists(\"dataset2/s\" + str(1)):\n",
    "#                 os.makedirs(\"dataset2/s\" +  str(1))\n",
    "#             if int(ts) - oldTs > 2:\n",
    "#                 oldTs = int(ts)\n",
    "#                 print(\"aaaa\\n\")\n",
    "#                 sampleNum+=1\n",
    "                \n",
    "#                 cv2.imwrite('dataset2/s'+str(1)+\"/\"+str(sampleNum)+'.jpg', gray[y:y+h,x:x+w])\n",
    "#         cv2.imshow('frame',frame)\n",
    "        \n",
    "#         if cv2.waitKey(1) & 0xFF == ord(\"q\"):\n",
    "#             break\n",
    "#         #time.sleep(2)  # tạm dừng hoạt động trong 2 giây\n",
    "#         if sampleNum > 19:\n",
    "#             break\n",
    "#     cap.release()\n",
    "#     cv2.destroyAllWindows()"
   ]
  },
  {
   "cell_type": "code",
   "execution_count": null,
   "id": "01d02b56",
   "metadata": {},
   "outputs": [],
   "source": []
  }
 ],
 "metadata": {
  "kernelspec": {
   "display_name": "Python 3 (ipykernel)",
   "language": "python",
   "name": "python3"
  },
  "language_info": {
   "codemirror_mode": {
    "name": "ipython",
    "version": 3
   },
   "file_extension": ".py",
   "mimetype": "text/x-python",
   "name": "python",
   "nbconvert_exporter": "python",
   "pygments_lexer": "ipython3",
   "version": "3.9.13"
  }
 },
 "nbformat": 4,
 "nbformat_minor": 5
}
