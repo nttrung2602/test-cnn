{
 "cells": [
  {
   "cell_type": "code",
   "execution_count": 93,
   "id": "83a0cbd0",
   "metadata": {},
   "outputs": [],
   "source": [
    "import cv2\n",
    "import numpy as np\n",
    "from PIL import Image\n",
    "import os\n",
    "import psutil\n",
    "\n",
    "# Get current CPU usage as a percentage\n",
    "cpu_usage = psutil.cpu_percent()\n",
    "\n",
    "# Get current memory usage\n",
    "memory_usage = psutil.virtual_memory()\n",
    "\n",
    "# Convert memory usage object to a dictionary\n",
    "memory_usage_dict = dict(memory_usage._asdict())\n",
    "\n",
    "# Print results\n"
   ]
  },
  {
   "cell_type": "code",
   "execution_count": 106,
   "id": "3368e0b8",
   "metadata": {},
   "outputs": [
    {
     "name": "stdout",
     "output_type": "stream",
     "text": [
      "[ 1  1  1  1  1  1 10 10 10 10 10 10 10 10 10 10 10 10 10 10 10 10 10 10\n",
      " 10 10 10 10 10 10 10 10 10 10 10 10 10 10 10 10 10 10 10 10 10 10 10 10\n",
      " 10 10 10 10 10 10 10 10 10 10 10 10 10 10 10 10 10 10 10 10 10 10 10 10\n",
      " 10 10 10 10 10 10 10 10 10 10 10 10 10 10 10 10 10 10 10 10 10 10 10 10\n",
      " 10 10 10 10 10 10 10 10 10 10 10 10 10 10 10 10 10 10 10 10 10 10 10 10\n",
      " 10 10 10 10 10 10 10 10 10 10 10 10 10 10 10 10 10 10 10 10 10 10 10  2\n",
      "  2  2  2  2  2  3  3  3  3  3  3  3  4  4  4  4  4  4  5  5  5  5  6  6\n",
      "  6  6  6  6  6  6  6  6  6  6  6  6  6  6  6  6  6  6  6  6  6  6  6  6\n",
      "  6  6  6  6  6  6  6  6  6  6  6  6  6  6  6  6  6  6  6  6  6  6  6  6\n",
      "  6  6  6  6  6  6  6  6  6  6  6  6  6  6  6  6  6  6  6  6  6  6  6  6\n",
      "  6  6  6  6  6  6  6  6  6  6  6  6  6  6  6  6  6  6  6  6  6  6  6  6\n",
      "  6  6  6  6  6  6  6  6  6  6  6  6  6  6  6  6  6  6  6  7  7  7  7  7\n",
      "  7  7  7  7  8  8  8  8  8  8  8  8  8  8  8  8  8  8  8  8  8  8  8  8\n",
      "  8  8  8  8  8  8  8  8  8  8  8  8  8  8  8  8  8  8  8  8  8  8  8  8\n",
      "  8  8  8  8  8  8  8  8  8  8  8  8  8  8  8  8  8  8  8  8  8  8  8  8\n",
      "  8  8  8  8  8  8  8  8  8  8  8  8  8  8  8  8  8  8  8  8  8  8  8  8\n",
      "  8  8  8  8  8  8  8  8  8  8  8  8  8  8  8  8  8  8  8  8  8  8  8  8\n",
      "  8  8  8  8  8  8  8  8  8  8  8  8  8  8  8  8  8  8  9  9  9  9  9  9\n",
      "  9  9  9  9  9  9  9  9  9  9  9  9  9  9  9  9  9  9  9  9  9  9  9  9\n",
      "  9  9  9  9  9  9  9  9  9  9  9  9  9  9  9  9  9  9  9  9  9  9  9  9\n",
      "  9  9  9  9  9  9  9  9  9  9  9  9  9  9  9  9  9  9  9  9  9  9  9  9\n",
      "  9  9  9]\n"
     ]
    }
   ],
   "source": [
    "data = []\n",
    "labels = []\n",
    "dir = \"dataset\"\n",
    "detector = cv2.CascadeClassifier(\n",
    "    cv2.data.haarcascades + \"haarcascade_frontalface_default.xml\"\n",
    ")\n",
    "directorynames = os.listdir(dir)  # directory names inside parent\n",
    "for directoryname in directorynames:\n",
    "    if directoryname.startswith(\"s\"):\n",
    "        x = directoryname.replace(\"s\", \"\")\n",
    "    label = int(x)\n",
    "    directorypath = dir + \"/\" + directoryname  # directory path\n",
    "\n",
    "    imagenames = os.listdir(directorypath)\n",
    "    for imagename in imagenames:\n",
    "        if not imagename.startswith(\".\"):\n",
    "            imagepath = directorypath + \"/\" + imagename  # image path\n",
    "\n",
    "            img = cv2.imread(imagepath)\n",
    "\n",
    "            img = cv2.cvtColor(img, cv2.COLOR_BGR2GRAY)\n",
    "            img = cv2.resize(src=img, dsize=(200, 200))\n",
    "            img = np.array(img)\n",
    "            data.append(img)\n",
    "            labels.append(label)\n",
    "data = np.array(data)\n",
    "labels = np.array(labels)\n",
    "data = data.reshape((-1, 200, 200, 1))\n",
    "print(labels)\n",
    "X_train = data / 255"
   ]
  },
  {
   "cell_type": "code",
   "execution_count": 107,
   "id": "47a54476",
   "metadata": {},
   "outputs": [],
   "source": [
    "from sklearn.preprocessing import LabelBinarizer\n",
    "\n",
    "lb = LabelBinarizer()\n",
    "trainY = lb.fit_transform(labels)"
   ]
  },
  {
   "cell_type": "code",
   "execution_count": 108,
   "id": "afaff872",
   "metadata": {},
   "outputs": [],
   "source": [
    "from tensorflow.keras.models import Model\n",
    "from tensorflow.keras.models import Sequential\n",
    "from tensorflow.keras.layers import AveragePooling2D\n",
    "from tensorflow.keras.layers import MaxPooling2D\n",
    "from tensorflow.keras.layers import Conv2D\n",
    "from tensorflow.keras.layers import Activation\n",
    "from tensorflow.keras.layers import Flatten\n",
    "from tensorflow.keras.layers import Input\n",
    "from tensorflow.keras.layers import Dense\n",
    "from tensorflow.keras.layers import concatenate\n",
    "from tensorflow.keras.preprocessing.image import ImageDataGenerator\n",
    "from tensorflow.keras.optimizers import SGD"
   ]
  },
  {
   "cell_type": "code",
   "execution_count": null,
   "id": "6c7b396a",
   "metadata": {
    "scrolled": true
   },
   "outputs": [
    {
     "name": "stdout",
     "output_type": "stream",
     "text": [
      "Model: \"sequential_95\"\n",
      "_________________________________________________________________\n",
      " Layer (type)                Output Shape              Param #   \n",
      "=================================================================\n",
      " conv2d_244 (Conv2D)         (None, 200, 200, 64)      1664      \n",
      "                                                                 \n",
      " activation_432 (Activation)  (None, 200, 200, 64)     0         \n",
      "                                                                 \n",
      " max_pooling2d_240 (MaxPooli  (None, 66, 66, 64)       0         \n",
      " ng2D)                                                           \n",
      "                                                                 \n",
      " conv2d_245 (Conv2D)         (None, 66, 66, 128)       204928    \n",
      "                                                                 \n",
      " activation_433 (Activation)  (None, 66, 66, 128)      0         \n",
      "                                                                 \n",
      " max_pooling2d_241 (MaxPooli  (None, 13, 13, 128)      0         \n",
      " ng2D)                                                           \n",
      "                                                                 \n",
      " flatten_94 (Flatten)        (None, 21632)             0         \n",
      "                                                                 \n",
      " dense_188 (Dense)           (None, 128)               2769024   \n",
      "                                                                 \n",
      " activation_434 (Activation)  (None, 128)              0         \n",
      "                                                                 \n",
      " dense_189 (Dense)           (None, 10)                1290      \n",
      "                                                                 \n",
      " activation_435 (Activation)  (None, 10)               0         \n",
      "                                                                 \n",
      "=================================================================\n",
      "Total params: 2,976,906\n",
      "Trainable params: 2,976,906\n",
      "Non-trainable params: 0\n",
      "_________________________________________________________________\n",
      "start training\n",
      "Epoch 1/20\n",
      "21/21 [==============================] - 24s 1s/step - loss: 1.4792 - accuracy: 0.4938 - val_loss: 4.2660 - val_accuracy: 0.1863\n",
      "Epoch 2/20\n",
      "21/21 [==============================] - 25s 1s/step - loss: 0.9446 - accuracy: 0.6741 - val_loss: 6.6673 - val_accuracy: 0.1863\n",
      "Epoch 3/20\n",
      "21/21 [==============================] - 25s 1s/step - loss: 0.6531 - accuracy: 0.7605 - val_loss: 7.9331 - val_accuracy: 0.1863\n",
      "Epoch 4/20\n",
      "21/21 [==============================] - 24s 1s/step - loss: 0.5278 - accuracy: 0.8099 - val_loss: 7.6406 - val_accuracy: 0.1863\n",
      "Epoch 5/20\n",
      "21/21 [==============================] - 25s 1s/step - loss: 0.3062 - accuracy: 0.8840 - val_loss: 9.7517 - val_accuracy: 0.1863\n",
      "Epoch 6/20\n",
      " 2/21 [=>............................] - ETA: 25s - loss: 0.2538 - accuracy: 0.9000"
     ]
    }
   ],
   "source": [
    "Model = Sequential()\n",
    "shape = (200, 200, 1)\n",
    "Model.add(Conv2D(64, (5, 5), padding=\"same\", input_shape=shape))\n",
    "Model.add(Activation(\"relu\"))\n",
    "Model.add(MaxPooling2D(pool_size=(3,3)))\n",
    "\n",
    "Model.add(Conv2D(128, (5, 5), padding=\"same\"))\n",
    "Model.add(Activation(\"relu\"))\n",
    "Model.add(MaxPooling2D(pool_size=(5,5)))\n",
    "\n",
    "\n",
    "\n",
    "Model.add(Flatten())\n",
    "Model.add(Dense(128))\n",
    "Model.add(Activation(\"relu\"))\n",
    "Model.add(Dense(10))\n",
    "Model.add(Activation(\"softmax\"))\n",
    "\n",
    "Model.summary()\n",
    "Model.compile(loss=\"categorical_crossentropy\", optimizer=\"adam\", metrics=[\"accuracy\"])\n",
    "print(\"start training\")\n",
    "Model.fit(X_train, trainY, batch_size=20, epochs=20,validation_split=0.2)\n",
    "# Model.fit(X_train, trainY, batch_size=5, epochs=20)\n",
    "print(\"Complete training\")\n",
    "Model.save(\"khuonmat.h5\")\n"
   ]
  },
  {
   "cell_type": "code",
   "execution_count": null,
   "id": "533838a1",
   "metadata": {},
   "outputs": [],
   "source": []
  },
  {
   "cell_type": "code",
   "execution_count": null,
   "id": "048a7d0d",
   "metadata": {},
   "outputs": [],
   "source": []
  }
 ],
 "metadata": {
  "kernelspec": {
   "display_name": "Python 3 (ipykernel)",
   "language": "python",
   "name": "python3"
  },
  "language_info": {
   "codemirror_mode": {
    "name": "ipython",
    "version": 3
   },
   "file_extension": ".py",
   "mimetype": "text/x-python",
   "name": "python",
   "nbconvert_exporter": "python",
   "pygments_lexer": "ipython3",
   "version": "3.9.13"
  }
 },
 "nbformat": 4,
 "nbformat_minor": 5
}
